{
 "cells": [
  {
   "cell_type": "code",
   "execution_count": 1,
   "id": "305e607f",
   "metadata": {},
   "outputs": [],
   "source": [
    "import mydict"
   ]
  },
  {
   "cell_type": "code",
   "execution_count": 4,
   "id": "dc6ff884",
   "metadata": {},
   "outputs": [],
   "source": [
    "a = mydict.dictonary_parsing({\"a\":1,\"b\":2})"
   ]
  },
  {
   "cell_type": "code",
   "execution_count": 5,
   "id": "e7648334",
   "metadata": {},
   "outputs": [
    {
     "name": "stdout",
     "output_type": "stream",
     "text": [
      "dict_keys(['a', 'b'])\n"
     ]
    }
   ],
   "source": [
    "a.mykeys()"
   ]
  },
  {
   "cell_type": "code",
   "execution_count": 6,
   "id": "e13887d5",
   "metadata": {},
   "outputs": [
    {
     "name": "stdout",
     "output_type": "stream",
     "text": [
      "dict_values([1, 2])\n"
     ]
    }
   ],
   "source": [
    "a.myvalues()"
   ]
  },
  {
   "cell_type": "code",
   "execution_count": null,
   "id": "d5bb59cb",
   "metadata": {},
   "outputs": [],
   "source": [
    " "
   ]
  },
  {
   "cell_type": "code",
   "execution_count": null,
   "id": "ad32df1d",
   "metadata": {},
   "outputs": [],
   "source": []
  }
 ],
 "metadata": {
  "kernelspec": {
   "display_name": "Python 3 (ipykernel)",
   "language": "python",
   "name": "python3"
  },
  "language_info": {
   "codemirror_mode": {
    "name": "ipython",
    "version": 3
   },
   "file_extension": ".py",
   "mimetype": "text/x-python",
   "name": "python",
   "nbconvert_exporter": "python",
   "pygments_lexer": "ipython3",
   "version": "3.10.9"
  }
 },
 "nbformat": 4,
 "nbformat_minor": 5
}
