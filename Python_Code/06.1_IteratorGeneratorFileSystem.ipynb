{
 "cells": [
  {
   "cell_type": "code",
   "execution_count": 1,
   "id": "cb46ff5d",
   "metadata": {},
   "outputs": [],
   "source": [
    "l = [1,2,3,4,5]"
   ]
  },
  {
   "cell_type": "code",
   "execution_count": 2,
   "id": "7e6616b2",
   "metadata": {},
   "outputs": [
    {
     "ename": "TypeError",
     "evalue": "'list' object is not an iterator",
     "output_type": "error",
     "traceback": [
      "\u001b[1;31m---------------------------------------------------------------------------\u001b[0m",
      "\u001b[1;31mTypeError\u001b[0m                                 Traceback (most recent call last)",
      "\u001b[1;32m~\\AppData\\Local\\Temp\\ipykernel_1500\\2016234150.py\u001b[0m in \u001b[0;36m<module>\u001b[1;34m\u001b[0m\n\u001b[1;32m----> 1\u001b[1;33m \u001b[0mnext\u001b[0m\u001b[1;33m(\u001b[0m\u001b[0ml\u001b[0m\u001b[1;33m)\u001b[0m\u001b[1;33m\u001b[0m\u001b[1;33m\u001b[0m\u001b[0m\n\u001b[0m",
      "\u001b[1;31mTypeError\u001b[0m: 'list' object is not an iterator"
     ]
    }
   ],
   "source": [
    "next(l)"
   ]
  },
  {
   "cell_type": "code",
   "execution_count": 3,
   "id": "8bee11fb",
   "metadata": {},
   "outputs": [],
   "source": [
    "l = iter(l)"
   ]
  },
  {
   "cell_type": "code",
   "execution_count": 4,
   "id": "bcdd34b9",
   "metadata": {},
   "outputs": [
    {
     "data": {
      "text/plain": [
       "1"
      ]
     },
     "execution_count": 4,
     "metadata": {},
     "output_type": "execute_result"
    }
   ],
   "source": [
    "next(l)"
   ]
  },
  {
   "cell_type": "code",
   "execution_count": 5,
   "id": "23b63da1",
   "metadata": {},
   "outputs": [
    {
     "data": {
      "text/plain": [
       "2"
      ]
     },
     "execution_count": 5,
     "metadata": {},
     "output_type": "execute_result"
    }
   ],
   "source": [
    "next(l)"
   ]
  },
  {
   "cell_type": "code",
   "execution_count": 6,
   "id": "e65e0897",
   "metadata": {},
   "outputs": [
    {
     "data": {
      "text/plain": [
       "3"
      ]
     },
     "execution_count": 6,
     "metadata": {},
     "output_type": "execute_result"
    }
   ],
   "source": [
    "next(l)"
   ]
  },
  {
   "cell_type": "code",
   "execution_count": 7,
   "id": "e09842a8",
   "metadata": {},
   "outputs": [
    {
     "data": {
      "text/plain": [
       "4"
      ]
     },
     "execution_count": 7,
     "metadata": {},
     "output_type": "execute_result"
    }
   ],
   "source": [
    "next(l)"
   ]
  },
  {
   "cell_type": "code",
   "execution_count": 8,
   "id": "9a051450",
   "metadata": {},
   "outputs": [
    {
     "data": {
      "text/plain": [
       "5"
      ]
     },
     "execution_count": 8,
     "metadata": {},
     "output_type": "execute_result"
    }
   ],
   "source": [
    "next(l)"
   ]
  },
  {
   "cell_type": "code",
   "execution_count": 9,
   "id": "ba65b6fb",
   "metadata": {},
   "outputs": [
    {
     "ename": "StopIteration",
     "evalue": "",
     "output_type": "error",
     "traceback": [
      "\u001b[1;31m---------------------------------------------------------------------------\u001b[0m",
      "\u001b[1;31mStopIteration\u001b[0m                             Traceback (most recent call last)",
      "\u001b[1;32m~\\AppData\\Local\\Temp\\ipykernel_1500\\2016234150.py\u001b[0m in \u001b[0;36m<module>\u001b[1;34m\u001b[0m\n\u001b[1;32m----> 1\u001b[1;33m \u001b[0mnext\u001b[0m\u001b[1;33m(\u001b[0m\u001b[0ml\u001b[0m\u001b[1;33m)\u001b[0m\u001b[1;33m\u001b[0m\u001b[1;33m\u001b[0m\u001b[0m\n\u001b[0m",
      "\u001b[1;31mStopIteration\u001b[0m: "
     ]
    }
   ],
   "source": [
    "next(l)"
   ]
  },
  {
   "cell_type": "code",
   "execution_count": 10,
   "id": "1b819a06",
   "metadata": {},
   "outputs": [],
   "source": [
    "a = 56"
   ]
  },
  {
   "cell_type": "code",
   "execution_count": 11,
   "id": "38ab508c",
   "metadata": {},
   "outputs": [
    {
     "ename": "TypeError",
     "evalue": "'int' object is not an iterator",
     "output_type": "error",
     "traceback": [
      "\u001b[1;31m---------------------------------------------------------------------------\u001b[0m",
      "\u001b[1;31mTypeError\u001b[0m                                 Traceback (most recent call last)",
      "\u001b[1;32m~\\AppData\\Local\\Temp\\ipykernel_1500\\1242322984.py\u001b[0m in \u001b[0;36m<module>\u001b[1;34m\u001b[0m\n\u001b[1;32m----> 1\u001b[1;33m \u001b[0mnext\u001b[0m\u001b[1;33m(\u001b[0m\u001b[0ma\u001b[0m\u001b[1;33m)\u001b[0m\u001b[1;33m\u001b[0m\u001b[1;33m\u001b[0m\u001b[0m\n\u001b[0m",
      "\u001b[1;31mTypeError\u001b[0m: 'int' object is not an iterator"
     ]
    }
   ],
   "source": [
    "next(a)"
   ]
  },
  {
   "cell_type": "code",
   "execution_count": 12,
   "id": "08e423fa",
   "metadata": {},
   "outputs": [
    {
     "ename": "TypeError",
     "evalue": "'int' object is not iterable",
     "output_type": "error",
     "traceback": [
      "\u001b[1;31m---------------------------------------------------------------------------\u001b[0m",
      "\u001b[1;31mTypeError\u001b[0m                                 Traceback (most recent call last)",
      "\u001b[1;32m~\\AppData\\Local\\Temp\\ipykernel_1500\\767013278.py\u001b[0m in \u001b[0;36m<module>\u001b[1;34m\u001b[0m\n\u001b[1;32m----> 1\u001b[1;33m \u001b[0ma\u001b[0m \u001b[1;33m=\u001b[0m \u001b[0miter\u001b[0m\u001b[1;33m(\u001b[0m\u001b[0ma\u001b[0m\u001b[1;33m)\u001b[0m\u001b[1;33m\u001b[0m\u001b[1;33m\u001b[0m\u001b[0m\n\u001b[0m",
      "\u001b[1;31mTypeError\u001b[0m: 'int' object is not iterable"
     ]
    }
   ],
   "source": [
    "a = iter(a)"
   ]
  },
  {
   "cell_type": "code",
   "execution_count": 13,
   "id": "19d0f959",
   "metadata": {},
   "outputs": [],
   "source": [
    "t = (5,6,7,8)"
   ]
  },
  {
   "cell_type": "code",
   "execution_count": 14,
   "id": "f15c7221",
   "metadata": {},
   "outputs": [
    {
     "ename": "TypeError",
     "evalue": "'tuple' object is not an iterator",
     "output_type": "error",
     "traceback": [
      "\u001b[1;31m---------------------------------------------------------------------------\u001b[0m",
      "\u001b[1;31mTypeError\u001b[0m                                 Traceback (most recent call last)",
      "\u001b[1;32m~\\AppData\\Local\\Temp\\ipykernel_1500\\2139502855.py\u001b[0m in \u001b[0;36m<module>\u001b[1;34m\u001b[0m\n\u001b[1;32m----> 1\u001b[1;33m \u001b[0mnext\u001b[0m\u001b[1;33m(\u001b[0m\u001b[0mt\u001b[0m\u001b[1;33m)\u001b[0m\u001b[1;33m\u001b[0m\u001b[1;33m\u001b[0m\u001b[0m\n\u001b[0m",
      "\u001b[1;31mTypeError\u001b[0m: 'tuple' object is not an iterator"
     ]
    }
   ],
   "source": [
    "next(t)"
   ]
  },
  {
   "cell_type": "code",
   "execution_count": 15,
   "id": "f32adc10",
   "metadata": {},
   "outputs": [],
   "source": [
    "t = iter(t)"
   ]
  },
  {
   "cell_type": "code",
   "execution_count": 16,
   "id": "1de2fbb1",
   "metadata": {},
   "outputs": [
    {
     "data": {
      "text/plain": [
       "5"
      ]
     },
     "execution_count": 16,
     "metadata": {},
     "output_type": "execute_result"
    }
   ],
   "source": [
    "next(t)"
   ]
  },
  {
   "cell_type": "code",
   "execution_count": 17,
   "id": "0d042b3b",
   "metadata": {},
   "outputs": [
    {
     "data": {
      "text/plain": [
       "range(0, 6)"
      ]
     },
     "execution_count": 17,
     "metadata": {},
     "output_type": "execute_result"
    }
   ],
   "source": [
    "range(6)"
   ]
  },
  {
   "cell_type": "code",
   "execution_count": 18,
   "id": "fdcfb6f2",
   "metadata": {},
   "outputs": [],
   "source": [
    "r = range(6)"
   ]
  },
  {
   "cell_type": "code",
   "execution_count": 19,
   "id": "bc30b9b5",
   "metadata": {},
   "outputs": [
    {
     "ename": "TypeError",
     "evalue": "'range' object is not an iterator",
     "output_type": "error",
     "traceback": [
      "\u001b[1;31m---------------------------------------------------------------------------\u001b[0m",
      "\u001b[1;31mTypeError\u001b[0m                                 Traceback (most recent call last)",
      "\u001b[1;32m~\\AppData\\Local\\Temp\\ipykernel_1500\\4134984757.py\u001b[0m in \u001b[0;36m<module>\u001b[1;34m\u001b[0m\n\u001b[1;32m----> 1\u001b[1;33m \u001b[0mnext\u001b[0m\u001b[1;33m(\u001b[0m\u001b[0mr\u001b[0m\u001b[1;33m)\u001b[0m\u001b[1;33m\u001b[0m\u001b[1;33m\u001b[0m\u001b[0m\n\u001b[0m",
      "\u001b[1;31mTypeError\u001b[0m: 'range' object is not an iterator"
     ]
    }
   ],
   "source": [
    "next(r)"
   ]
  },
  {
   "cell_type": "code",
   "execution_count": 20,
   "id": "f21d5828",
   "metadata": {},
   "outputs": [],
   "source": [
    "r = iter(r)"
   ]
  },
  {
   "cell_type": "code",
   "execution_count": 21,
   "id": "09056c51",
   "metadata": {},
   "outputs": [
    {
     "data": {
      "text/plain": [
       "0"
      ]
     },
     "execution_count": 21,
     "metadata": {},
     "output_type": "execute_result"
    }
   ],
   "source": [
    "next(r)"
   ]
  },
  {
   "cell_type": "code",
   "execution_count": 22,
   "id": "f87420c9",
   "metadata": {},
   "outputs": [
    {
     "data": {
      "text/plain": [
       "1"
      ]
     },
     "execution_count": 22,
     "metadata": {},
     "output_type": "execute_result"
    }
   ],
   "source": [
    "next(r)"
   ]
  },
  {
   "cell_type": "markdown",
   "id": "7649fd33",
   "metadata": {},
   "source": [
    "Generator is a kind of object which allows you to hold an information about the previous data set that you have generated and a logic by which you have generated the previous data set so that you will be able to generate the next data."
   ]
  },
  {
   "cell_type": "code",
   "execution_count": 23,
   "id": "84155a3d",
   "metadata": {},
   "outputs": [
    {
     "data": {
      "text/plain": [
       "range(0, 45, 3)"
      ]
     },
     "execution_count": 23,
     "metadata": {},
     "output_type": "execute_result"
    }
   ],
   "source": [
    "range(0,45,3)"
   ]
  },
  {
   "cell_type": "code",
   "execution_count": 24,
   "id": "bb6f9ea0",
   "metadata": {},
   "outputs": [
    {
     "data": {
      "text/plain": [
       "[0, 3, 6, 9, 12, 15, 18, 21, 24, 27, 30, 33, 36, 39, 42]"
      ]
     },
     "execution_count": 24,
     "metadata": {},
     "output_type": "execute_result"
    }
   ],
   "source": [
    "list(range(0,45,3))"
   ]
  },
  {
   "cell_type": "code",
   "execution_count": 25,
   "id": "5f9bd849",
   "metadata": {},
   "outputs": [],
   "source": [
    "def gencube(n):\n",
    "    l=[]\n",
    "    for i in range(n):\n",
    "        l.append(i**3)\n",
    "    return l"
   ]
  },
  {
   "cell_type": "code",
   "execution_count": 26,
   "id": "23809140",
   "metadata": {},
   "outputs": [
    {
     "data": {
      "text/plain": [
       "[0, 1, 8, 27, 64, 125]"
      ]
     },
     "execution_count": 26,
     "metadata": {},
     "output_type": "execute_result"
    }
   ],
   "source": [
    "gencube(6)"
   ]
  },
  {
   "cell_type": "code",
   "execution_count": 27,
   "id": "8caaba87",
   "metadata": {},
   "outputs": [],
   "source": [
    "def gencube1(n):\n",
    "    l=[]\n",
    "    for i in range(n):\n",
    "        print(i**3, end=\",\")\n",
    "    return l"
   ]
  },
  {
   "cell_type": "code",
   "execution_count": 28,
   "id": "92f9b894",
   "metadata": {},
   "outputs": [
    {
     "name": "stdout",
     "output_type": "stream",
     "text": [
      "0,1,8,27,64,"
     ]
    },
    {
     "data": {
      "text/plain": [
       "[]"
      ]
     },
     "execution_count": 28,
     "metadata": {},
     "output_type": "execute_result"
    }
   ],
   "source": [
    "gencube1(5)"
   ]
  },
  {
   "cell_type": "code",
   "execution_count": 29,
   "id": "f87c45a1",
   "metadata": {},
   "outputs": [],
   "source": [
    "def gencube2(n):\n",
    "\n",
    "    for i in range(n):\n",
    "        yield i**3"
   ]
  },
  {
   "cell_type": "code",
   "execution_count": 30,
   "id": "255cdbe6",
   "metadata": {},
   "outputs": [
    {
     "data": {
      "text/plain": [
       "<generator object gencube2 at 0x0000017F75E604A0>"
      ]
     },
     "execution_count": 30,
     "metadata": {},
     "output_type": "execute_result"
    }
   ],
   "source": [
    "gencube2(10)"
   ]
  },
  {
   "cell_type": "code",
   "execution_count": 31,
   "id": "e8f42b29",
   "metadata": {},
   "outputs": [
    {
     "data": {
      "text/plain": [
       "[0, 1, 8]"
      ]
     },
     "execution_count": 31,
     "metadata": {},
     "output_type": "execute_result"
    }
   ],
   "source": [
    "list(gencube2(3))"
   ]
  },
  {
   "cell_type": "code",
   "execution_count": 32,
   "id": "c1063f30",
   "metadata": {},
   "outputs": [
    {
     "name": "stdout",
     "output_type": "stream",
     "text": [
      "0\n",
      "1\n",
      "8\n",
      "27\n"
     ]
    }
   ],
   "source": [
    "for i in gencube2(4):\n",
    "    print(i)"
   ]
  },
  {
   "cell_type": "code",
   "execution_count": 33,
   "id": "0a9c33a1",
   "metadata": {},
   "outputs": [],
   "source": [
    "def fib(n):\n",
    "    a,b=0,1\n",
    "    for i in range(n):\n",
    "        a,b=b,a+b\n",
    "        yield a\n"
   ]
  },
  {
   "cell_type": "code",
   "execution_count": 34,
   "id": "4d8a7f94",
   "metadata": {},
   "outputs": [
    {
     "name": "stdout",
     "output_type": "stream",
     "text": [
      "1\n",
      "1\n",
      "2\n",
      "3\n",
      "5\n",
      "8\n",
      "13\n",
      "21\n",
      "34\n",
      "55\n"
     ]
    }
   ],
   "source": [
    "for i in fib(10):\n",
    "    print(i)"
   ]
  },
  {
   "cell_type": "code",
   "execution_count": 35,
   "id": "8af40bd4",
   "metadata": {},
   "outputs": [
    {
     "name": "stdout",
     "output_type": "stream",
     "text": [
      "something in console\n"
     ]
    }
   ],
   "source": [
    "print(\"something in console\")"
   ]
  },
  {
   "cell_type": "code",
   "execution_count": 36,
   "id": "0c30ebc1",
   "metadata": {},
   "outputs": [],
   "source": [
    "f = open(\"06.2_test1.txt\",'w')"
   ]
  },
  {
   "cell_type": "code",
   "execution_count": 37,
   "id": "a7227cb3",
   "metadata": {},
   "outputs": [
    {
     "data": {
      "text/plain": [
       "31"
      ]
     },
     "execution_count": 37,
     "metadata": {},
     "output_type": "execute_result"
    }
   ],
   "source": [
    "f.write(\"this is my first file operation\")"
   ]
  },
  {
   "cell_type": "code",
   "execution_count": 38,
   "id": "cf4577c2",
   "metadata": {},
   "outputs": [],
   "source": [
    "f.close()"
   ]
  },
  {
   "cell_type": "code",
   "execution_count": 39,
   "id": "002c3151",
   "metadata": {},
   "outputs": [
    {
     "name": "stdout",
     "output_type": "stream",
     "text": [
      "Writing 06.3_test2.txt\n"
     ]
    }
   ],
   "source": [
    "%%writefile '06.3_test2.txt'\n",
    "this is the data i would like to store"
   ]
  },
  {
   "cell_type": "code",
   "execution_count": 40,
   "id": "c26c2045",
   "metadata": {},
   "outputs": [],
   "source": [
    "f = open('06.3_test2.txt')"
   ]
  },
  {
   "cell_type": "code",
   "execution_count": 41,
   "id": "d530334d",
   "metadata": {},
   "outputs": [
    {
     "data": {
      "text/plain": [
       "'this is the data i would like to store\\n'"
      ]
     },
     "execution_count": 41,
     "metadata": {},
     "output_type": "execute_result"
    }
   ],
   "source": [
    "f.read()"
   ]
  },
  {
   "cell_type": "code",
   "execution_count": 42,
   "id": "70345e59",
   "metadata": {},
   "outputs": [
    {
     "ename": "UnsupportedOperation",
     "evalue": "not writable",
     "output_type": "error",
     "traceback": [
      "\u001b[1;31m---------------------------------------------------------------------------\u001b[0m",
      "\u001b[1;31mUnsupportedOperation\u001b[0m                      Traceback (most recent call last)",
      "\u001b[1;32m~\\AppData\\Local\\Temp\\ipykernel_1500\\3462307149.py\u001b[0m in \u001b[0;36m<module>\u001b[1;34m\u001b[0m\n\u001b[1;32m----> 1\u001b[1;33m \u001b[0mf\u001b[0m\u001b[1;33m.\u001b[0m\u001b[0mwrite\u001b[0m\u001b[1;33m(\u001b[0m\u001b[1;34m\"thdjs\"\u001b[0m\u001b[1;33m)\u001b[0m\u001b[1;33m\u001b[0m\u001b[1;33m\u001b[0m\u001b[0m\n\u001b[0m",
      "\u001b[1;31mUnsupportedOperation\u001b[0m: not writable"
     ]
    }
   ],
   "source": [
    "f.write(\"thdjs\")"
   ]
  },
  {
   "cell_type": "code",
   "execution_count": 43,
   "id": "fc20fd8e",
   "metadata": {},
   "outputs": [],
   "source": [
    "f.close()"
   ]
  },
  {
   "cell_type": "code",
   "execution_count": 44,
   "id": "83d01e3f",
   "metadata": {},
   "outputs": [],
   "source": [
    "f = open('06.3_test2.txt')"
   ]
  },
  {
   "cell_type": "code",
   "execution_count": 45,
   "id": "901718c0",
   "metadata": {},
   "outputs": [
    {
     "data": {
      "text/plain": [
       "'this is the data i would like to store\\n'"
      ]
     },
     "execution_count": 45,
     "metadata": {},
     "output_type": "execute_result"
    }
   ],
   "source": [
    "f.read()"
   ]
  },
  {
   "cell_type": "code",
   "execution_count": 46,
   "id": "16917428",
   "metadata": {},
   "outputs": [
    {
     "data": {
      "text/plain": [
       "''"
      ]
     },
     "execution_count": 46,
     "metadata": {},
     "output_type": "execute_result"
    }
   ],
   "source": [
    "f.read()"
   ]
  },
  {
   "cell_type": "code",
   "execution_count": 47,
   "id": "a21ee74f",
   "metadata": {},
   "outputs": [
    {
     "data": {
      "text/plain": [
       "40"
      ]
     },
     "execution_count": 47,
     "metadata": {},
     "output_type": "execute_result"
    }
   ],
   "source": [
    "f.tell()"
   ]
  },
  {
   "cell_type": "code",
   "execution_count": 48,
   "id": "9fd7be68",
   "metadata": {},
   "outputs": [
    {
     "data": {
      "text/plain": [
       "0"
      ]
     },
     "execution_count": 48,
     "metadata": {},
     "output_type": "execute_result"
    }
   ],
   "source": [
    "f.seek(0)"
   ]
  },
  {
   "cell_type": "code",
   "execution_count": 49,
   "id": "04a4ac25",
   "metadata": {},
   "outputs": [
    {
     "data": {
      "text/plain": [
       "0"
      ]
     },
     "execution_count": 49,
     "metadata": {},
     "output_type": "execute_result"
    }
   ],
   "source": [
    "f.tell()"
   ]
  },
  {
   "cell_type": "code",
   "execution_count": 50,
   "id": "2b5d1d23",
   "metadata": {},
   "outputs": [
    {
     "data": {
      "text/plain": [
       "'this is the data i would like to store\\n'"
      ]
     },
     "execution_count": 50,
     "metadata": {},
     "output_type": "execute_result"
    }
   ],
   "source": [
    "f.read()"
   ]
  },
  {
   "cell_type": "code",
   "execution_count": 51,
   "id": "c9613e19",
   "metadata": {},
   "outputs": [
    {
     "data": {
      "text/plain": [
       "40"
      ]
     },
     "execution_count": 51,
     "metadata": {},
     "output_type": "execute_result"
    }
   ],
   "source": [
    "f.tell()"
   ]
  },
  {
   "cell_type": "code",
   "execution_count": 52,
   "id": "70678222",
   "metadata": {},
   "outputs": [],
   "source": [
    "f.close()"
   ]
  },
  {
   "cell_type": "code",
   "execution_count": 53,
   "id": "20b6f683",
   "metadata": {},
   "outputs": [
    {
     "data": {
      "text/plain": [
       "5"
      ]
     },
     "execution_count": 53,
     "metadata": {},
     "output_type": "execute_result"
    }
   ],
   "source": [
    "f = open('06.3_test2.txt')\n",
    "f.seek(5)\n",
    "f.tell()"
   ]
  },
  {
   "cell_type": "code",
   "execution_count": 54,
   "id": "930ffe1d",
   "metadata": {},
   "outputs": [],
   "source": [
    "f.close()"
   ]
  },
  {
   "cell_type": "code",
   "execution_count": 65,
   "id": "0cdf8812",
   "metadata": {},
   "outputs": [],
   "source": [
    "f = open(\"06.3_test2.txt\",\"r+\")"
   ]
  },
  {
   "cell_type": "code",
   "execution_count": 66,
   "id": "73ea05e3",
   "metadata": {},
   "outputs": [
    {
     "data": {
      "text/plain": [
       "'this is the data i would like to store\\n'"
      ]
     },
     "execution_count": 66,
     "metadata": {},
     "output_type": "execute_result"
    }
   ],
   "source": [
    "f.read()"
   ]
  },
  {
   "cell_type": "code",
   "execution_count": 67,
   "id": "221bd357",
   "metadata": {},
   "outputs": [
    {
     "data": {
      "text/plain": [
       "6"
      ]
     },
     "execution_count": 67,
     "metadata": {},
     "output_type": "execute_result"
    }
   ],
   "source": [
    "f.write(\"1Hello\")"
   ]
  },
  {
   "cell_type": "code",
   "execution_count": 70,
   "id": "183c96d4",
   "metadata": {},
   "outputs": [
    {
     "data": {
      "text/plain": [
       "6"
      ]
     },
     "execution_count": 70,
     "metadata": {},
     "output_type": "execute_result"
    }
   ],
   "source": [
    "f.write(\"2Hello\")"
   ]
  },
  {
   "cell_type": "code",
   "execution_count": 71,
   "id": "b9c28c41",
   "metadata": {},
   "outputs": [
    {
     "data": {
      "text/plain": [
       "6"
      ]
     },
     "execution_count": 71,
     "metadata": {},
     "output_type": "execute_result"
    }
   ],
   "source": [
    "f.write(\"3Hello\")"
   ]
  },
  {
   "cell_type": "code",
   "execution_count": 73,
   "id": "af1d6c1f",
   "metadata": {},
   "outputs": [
    {
     "data": {
      "text/plain": [
       "0"
      ]
     },
     "execution_count": 73,
     "metadata": {},
     "output_type": "execute_result"
    }
   ],
   "source": [
    "f.seek(0)"
   ]
  },
  {
   "cell_type": "code",
   "execution_count": 74,
   "id": "217d43c5",
   "metadata": {},
   "outputs": [
    {
     "data": {
      "text/plain": [
       "'this is the data i would like to store\\n'"
      ]
     },
     "execution_count": 74,
     "metadata": {},
     "output_type": "execute_result"
    }
   ],
   "source": [
    "f.readline()"
   ]
  },
  {
   "cell_type": "code",
   "execution_count": 75,
   "id": "4f00fa2d",
   "metadata": {},
   "outputs": [
    {
     "data": {
      "text/plain": [
       "'1Hello2Hello3Hello'"
      ]
     },
     "execution_count": 75,
     "metadata": {},
     "output_type": "execute_result"
    }
   ],
   "source": [
    "f.readline()"
   ]
  },
  {
   "cell_type": "code",
   "execution_count": 76,
   "id": "a8939f35",
   "metadata": {},
   "outputs": [
    {
     "data": {
      "text/plain": [
       "[]"
      ]
     },
     "execution_count": 76,
     "metadata": {},
     "output_type": "execute_result"
    }
   ],
   "source": [
    "f.readlines()"
   ]
  },
  {
   "cell_type": "code",
   "execution_count": 77,
   "id": "146c1de9",
   "metadata": {},
   "outputs": [
    {
     "data": {
      "text/plain": [
       "[]"
      ]
     },
     "execution_count": 77,
     "metadata": {},
     "output_type": "execute_result"
    }
   ],
   "source": [
    "f.readlines()"
   ]
  },
  {
   "cell_type": "code",
   "execution_count": 78,
   "id": "c0f6d27e",
   "metadata": {},
   "outputs": [],
   "source": [
    "f.close()"
   ]
  },
  {
   "cell_type": "code",
   "execution_count": 79,
   "id": "a6cd6a16",
   "metadata": {},
   "outputs": [],
   "source": [
    "f = open(\"06.3_test2.txt\",\"r+\")"
   ]
  },
  {
   "cell_type": "code",
   "execution_count": 80,
   "id": "7f9a9cf6",
   "metadata": {},
   "outputs": [
    {
     "data": {
      "text/plain": [
       "'this is the data i would like to store\\n'"
      ]
     },
     "execution_count": 80,
     "metadata": {},
     "output_type": "execute_result"
    }
   ],
   "source": [
    "f.readline()"
   ]
  },
  {
   "cell_type": "code",
   "execution_count": 81,
   "id": "99ad7592",
   "metadata": {},
   "outputs": [
    {
     "data": {
      "text/plain": [
       "'1Hello2Hello3Hello'"
      ]
     },
     "execution_count": 81,
     "metadata": {},
     "output_type": "execute_result"
    }
   ],
   "source": [
    "f.readline()"
   ]
  },
  {
   "cell_type": "code",
   "execution_count": 82,
   "id": "c31344cc",
   "metadata": {},
   "outputs": [
    {
     "data": {
      "text/plain": [
       "''"
      ]
     },
     "execution_count": 82,
     "metadata": {},
     "output_type": "execute_result"
    }
   ],
   "source": [
    "f.readline()"
   ]
  },
  {
   "cell_type": "code",
   "execution_count": 83,
   "id": "8d8e3fce",
   "metadata": {},
   "outputs": [
    {
     "data": {
      "text/plain": [
       "''"
      ]
     },
     "execution_count": 83,
     "metadata": {},
     "output_type": "execute_result"
    }
   ],
   "source": [
    "f.readline()"
   ]
  },
  {
   "cell_type": "code",
   "execution_count": 84,
   "id": "6b40745c",
   "metadata": {},
   "outputs": [],
   "source": [
    "f.close()"
   ]
  },
  {
   "cell_type": "code",
   "execution_count": 85,
   "id": "5689d7de",
   "metadata": {},
   "outputs": [],
   "source": [
    "f = open(\"06.3_test2.txt\",\"r+\")"
   ]
  },
  {
   "cell_type": "code",
   "execution_count": 86,
   "id": "096ad8db",
   "metadata": {},
   "outputs": [
    {
     "name": "stdout",
     "output_type": "stream",
     "text": [
      "this is the data i would like to store\n",
      "\n",
      "1Hello2Hello3Hello\n"
     ]
    }
   ],
   "source": [
    "for i in f.readlines():\n",
    "    print(i)"
   ]
  },
  {
   "cell_type": "code",
   "execution_count": 87,
   "id": "8fe6611c",
   "metadata": {},
   "outputs": [
    {
     "data": {
      "text/plain": [
       "0"
      ]
     },
     "execution_count": 87,
     "metadata": {},
     "output_type": "execute_result"
    }
   ],
   "source": [
    "f.seek(0)"
   ]
  },
  {
   "cell_type": "code",
   "execution_count": 88,
   "id": "2c554c48",
   "metadata": {},
   "outputs": [
    {
     "name": "stdout",
     "output_type": "stream",
     "text": [
      "this is the data i would like to store\n",
      "\n",
      "1Hello2Hello3Hello\n"
     ]
    }
   ],
   "source": [
    "for i in f:\n",
    "    print(i)"
   ]
  },
  {
   "cell_type": "code",
   "execution_count": 89,
   "id": "06fb9144",
   "metadata": {},
   "outputs": [
    {
     "data": {
      "text/plain": [
       "0"
      ]
     },
     "execution_count": 89,
     "metadata": {},
     "output_type": "execute_result"
    }
   ],
   "source": [
    "f.seek(0)"
   ]
  },
  {
   "cell_type": "code",
   "execution_count": 90,
   "id": "e7146212",
   "metadata": {},
   "outputs": [
    {
     "data": {
      "text/plain": [
       "['this is the data i would like to store\\n', '1Hello2Hello3Hello']"
      ]
     },
     "execution_count": 90,
     "metadata": {},
     "output_type": "execute_result"
    }
   ],
   "source": [
    "f.readlines()"
   ]
  },
  {
   "cell_type": "code",
   "execution_count": 91,
   "id": "f2843618",
   "metadata": {},
   "outputs": [
    {
     "data": {
      "text/plain": [
       "10"
      ]
     },
     "execution_count": 91,
     "metadata": {},
     "output_type": "execute_result"
    }
   ],
   "source": [
    "f.write(\"test write\")"
   ]
  },
  {
   "cell_type": "code",
   "execution_count": 92,
   "id": "1c054d7b",
   "metadata": {},
   "outputs": [],
   "source": [
    "f.close()"
   ]
  },
  {
   "cell_type": "code",
   "execution_count": 93,
   "id": "450b5e85",
   "metadata": {},
   "outputs": [],
   "source": [
    "f = open(\"06.3_test2.txt\",\"r+\")"
   ]
  },
  {
   "cell_type": "code",
   "execution_count": 94,
   "id": "809144b1",
   "metadata": {},
   "outputs": [
    {
     "data": {
      "text/plain": [
       "20"
      ]
     },
     "execution_count": 94,
     "metadata": {},
     "output_type": "execute_result"
    }
   ],
   "source": [
    "f.write(\"write at location 0\\n\")"
   ]
  },
  {
   "cell_type": "code",
   "execution_count": 95,
   "id": "2ff757a1",
   "metadata": {},
   "outputs": [],
   "source": [
    "f.close()"
   ]
  },
  {
   "cell_type": "code",
   "execution_count": 96,
   "id": "3f0c15c8",
   "metadata": {},
   "outputs": [],
   "source": [
    "f = open(\"06.3_test2.txt\",\"r+\")"
   ]
  },
  {
   "cell_type": "code",
   "execution_count": 97,
   "id": "9ae15160",
   "metadata": {},
   "outputs": [
    {
     "data": {
      "text/plain": [
       "19"
      ]
     },
     "execution_count": 97,
     "metadata": {},
     "output_type": "execute_result"
    }
   ],
   "source": [
    "f.write(\"write at location 0\")"
   ]
  },
  {
   "cell_type": "code",
   "execution_count": 98,
   "id": "e532821a",
   "metadata": {},
   "outputs": [],
   "source": [
    "f.close()"
   ]
  },
  {
   "cell_type": "code",
   "execution_count": 99,
   "id": "04a7ef34",
   "metadata": {},
   "outputs": [],
   "source": [
    "f = open(\"06.3_test2.txt\",\"r+\")"
   ]
  },
  {
   "cell_type": "code",
   "execution_count": 100,
   "id": "0c50ae52",
   "metadata": {},
   "outputs": [
    {
     "data": {
      "text/plain": [
       "['write at location 0\\n',\n",
       " 'uld like to store\\n',\n",
       " '1Hello2Hello3Hellotest write']"
      ]
     },
     "execution_count": 100,
     "metadata": {},
     "output_type": "execute_result"
    }
   ],
   "source": [
    "f.readlines()"
   ]
  },
  {
   "cell_type": "code",
   "execution_count": 101,
   "id": "7e70cb40",
   "metadata": {},
   "outputs": [
    {
     "data": {
      "text/plain": [
       "3"
      ]
     },
     "execution_count": 101,
     "metadata": {},
     "output_type": "execute_result"
    }
   ],
   "source": [
    "f.seek(0)\n",
    "len(f.readlines())"
   ]
  },
  {
   "cell_type": "code",
   "execution_count": 102,
   "id": "2988ba28",
   "metadata": {},
   "outputs": [],
   "source": [
    "f.seek(0)\n",
    "l = f.readlines()"
   ]
  },
  {
   "cell_type": "code",
   "execution_count": 103,
   "id": "61d45751",
   "metadata": {},
   "outputs": [
    {
     "data": {
      "text/plain": [
       "['write', 'at', 'location', '0']"
      ]
     },
     "execution_count": 103,
     "metadata": {},
     "output_type": "execute_result"
    }
   ],
   "source": [
    "l[0].split()"
   ]
  },
  {
   "cell_type": "code",
   "execution_count": 104,
   "id": "aec23b20",
   "metadata": {},
   "outputs": [
    {
     "name": "stdout",
     "output_type": "stream",
     "text": [
      "w\n",
      "a\n",
      "l\n",
      "0\n"
     ]
    }
   ],
   "source": [
    "for i in l[0].split():\n",
    "    print(i[0])"
   ]
  },
  {
   "cell_type": "code",
   "execution_count": 105,
   "id": "8a02835f",
   "metadata": {},
   "outputs": [],
   "source": [
    "f = open('06.3_test2.txt',\"r+\")"
   ]
  },
  {
   "cell_type": "code",
   "execution_count": 106,
   "id": "ee5657f6",
   "metadata": {},
   "outputs": [
    {
     "data": {
      "text/plain": [
       "'06.3_test2.txt'"
      ]
     },
     "execution_count": 106,
     "metadata": {},
     "output_type": "execute_result"
    }
   ],
   "source": [
    "f.name"
   ]
  },
  {
   "cell_type": "code",
   "execution_count": 107,
   "id": "607b91c7",
   "metadata": {},
   "outputs": [],
   "source": [
    "l = [\"line 1\",\"line 2 \", \"line 3\"]"
   ]
  },
  {
   "cell_type": "code",
   "execution_count": 108,
   "id": "45cc7a95",
   "metadata": {},
   "outputs": [
    {
     "data": {
      "text/plain": [
       "11"
      ]
     },
     "execution_count": 108,
     "metadata": {},
     "output_type": "execute_result"
    }
   ],
   "source": [
    "f.write(\"i can write\")"
   ]
  },
  {
   "cell_type": "code",
   "execution_count": 109,
   "id": "8837d34d",
   "metadata": {},
   "outputs": [],
   "source": [
    "f.writelines(l)"
   ]
  },
  {
   "cell_type": "code",
   "execution_count": 110,
   "id": "93f98a19",
   "metadata": {},
   "outputs": [],
   "source": [
    "f.close()"
   ]
  },
  {
   "cell_type": "code",
   "execution_count": 112,
   "id": "1b916ec1",
   "metadata": {},
   "outputs": [
    {
     "data": {
      "text/plain": [
       "'\\nr\\tOnly for reading. The pointer is located at the start of file and it’s a default mode.\\nrb\\tOnly for reading in a binary format. The pointer is located at the start of file and it’s a default mode.\\nr+\\tTo opens a file for the both writing and reading. The pointer is located at the start of file.\\nrb+\\tFor the both writing and reading operation in binary format. The pointer is located at the start of file.\\nw\\tOnly for writing. Check for existing file, if its present overwrites in the exists file. If there is no any existing file then, makes a novel file for the writing.\\nwb\\tOnly for writing in a binary format. Check for existing file, if its present overwrites in the exists file. If there is no any existing file then, makes a novel file for the writing.\\nw+\\tFor the both writing and reading operation. Check for existing file, if its present overwrites in the exists file. If there is no any existing file then, makes a novel file for the writing and reading.\\nwb+\\tFor the both writing and reading operation in binary format. Check for existing file, if its present overwrites in the exists file. If there is no any existing file then, makes a novel file for the writing and reading.\\na\\topens the file for appending; any data written to the file is automatically added to the end. Check for existing file, if its present pointer is set at last of existing file for appending operation. If there is no any existing file then, makes a novel file for the writing.\\n'"
      ]
     },
     "execution_count": 112,
     "metadata": {},
     "output_type": "execute_result"
    }
   ],
   "source": [
    "\"\"\"\n",
    "r\tOnly for reading. The pointer is located at the start of file and it’s a default mode.\n",
    "rb\tOnly for reading in a binary format. The pointer is located at the start of file and it’s a default mode.\n",
    "r+\tTo opens a file for the both writing and reading. The pointer is located at the start of file.\n",
    "rb+\tFor the both writing and reading operation in binary format. The pointer is located at the start of file.\n",
    "w\tOnly for writing. Check for existing file, if its present overwrites in the exists file. If there is no any existing file then, makes a novel file for the writing.\n",
    "wb\tOnly for writing in a binary format. Check for existing file, if its present overwrites in the exists file. If there is no any existing file then, makes a novel file for the writing.\n",
    "w+\tFor the both writing and reading operation. Check for existing file, if its present overwrites in the exists file. If there is no any existing file then, makes a novel file for the writing and reading.\n",
    "wb+\tFor the both writing and reading operation in binary format. Check for existing file, if its present overwrites in the exists file. If there is no any existing file then, makes a novel file for the writing and reading.\n",
    "a\topens the file for appending; any data written to the file is automatically added to the end. Check for existing file, if its present pointer is set at last of existing file for appending operation. If there is no any existing file then, makes a novel file for the writing.\n",
    "\"\"\""
   ]
  },
  {
   "cell_type": "code",
   "execution_count": 113,
   "id": "0e99e251",
   "metadata": {},
   "outputs": [],
   "source": [
    "import os"
   ]
  },
  {
   "cell_type": "code",
   "execution_count": 119,
   "id": "3a9043a2",
   "metadata": {},
   "outputs": [],
   "source": [
    "f = open(\"06.4_test3.txt\",'w')"
   ]
  },
  {
   "cell_type": "code",
   "execution_count": 120,
   "id": "2c400f53",
   "metadata": {},
   "outputs": [
    {
     "name": "stdout",
     "output_type": "stream",
     "text": [
      " Volume in drive C has no label.\n",
      " Volume Serial Number is F007-554E\n",
      "\n",
      " Directory of C:\\Users\\mswin\\OneDrive\\FSDS\\1.1_Python\n",
      "\n",
      "27-07-2023  00:06    <DIR>          .\n",
      "27-07-2023  00:06    <DIR>          ..\n",
      "26-07-2023  23:47    <DIR>          .ipynb_checkpoints\n",
      "11-04-2023  16:49             2,636 00_Practice.ipynb\n",
      "26-07-2023  23:24            13,708 01_Python_Basic.ipynb\n",
      "26-07-2023  23:33            43,059 02_String_List_Indexing.ipynb\n",
      "26-07-2023  23:41               589 03_Tuple_Set_Dict.ipynb\n",
      "26-07-2023  23:42               589 04_Loops.ipynb\n",
      "26-07-2023  23:42               589 05_Functions.ipynb\n",
      "27-07-2023  00:06           103,510 06.1_IteratorGeneratorFileSystem.ipynb\n",
      "26-07-2023  23:53                31 06.2_test1.txt\n",
      "27-07-2023  00:03                68 06.3_test2.txt\n",
      "27-07-2023  00:06                 0 06.4_test3.txt\n",
      "19-04-2023  14:00    <DIR>          06_folder\n",
      "14-04-2023  16:46            58,976 07_ExceptionHandling.ipynb\n",
      "19-04-2023  14:00    <DIR>          08_logging\n",
      "23-04-2023  11:46             9,840 08_logging.ipynb\n",
      "20-04-2023  16:03             6,396 09.1_modules.ipynb\n",
      "17-04-2023  11:40             6,519 09_modules.ipynb\n",
      "19-04-2023  14:00    <DIR>          0_Resources\n",
      "20-04-2023  16:57             1,634 10.1_OOPs.ipynb\n",
      "08-05-2023  17:42            62,743 10_OOPs.ipynb\n",
      "15-02-2023  15:40    <DIR>          11_SQL\n",
      "25-07-2023  10:34           212,285 11_SQL.ipynb\n",
      "29-01-2023  18:14               159 module.py\n",
      "17-04-2023  11:15               (0) my-module.py\n",
      "31-01-2023  11:07               736 mydict.py\n",
      "23-04-2023  10:31    <DIR>          my_modules\n",
      "31-01-2023  11:10               589 Untitled.ipynb\n",
      "06-07-2023  08:49                72 Untitled1.ipynb\n",
      "31-01-2023  11:10    <DIR>          __pycache__\n",
      "              22 File(s)        524,728 bytes\n",
      "               9 Dir(s)  485,750,472,704 bytes free\n"
     ]
    }
   ],
   "source": [
    "!dir"
   ]
  },
  {
   "cell_type": "code",
   "execution_count": 122,
   "id": "c32a781e",
   "metadata": {},
   "outputs": [],
   "source": [
    "f.close()"
   ]
  },
  {
   "cell_type": "code",
   "execution_count": 123,
   "id": "17aff49b",
   "metadata": {},
   "outputs": [],
   "source": [
    "os.remove('06.4_test3.txt')"
   ]
  },
  {
   "cell_type": "code",
   "execution_count": 124,
   "id": "903d2b0c",
   "metadata": {},
   "outputs": [
    {
     "name": "stdout",
     "output_type": "stream",
     "text": [
      " Volume in drive C has no label.\n",
      " Volume Serial Number is F007-554E\n",
      "\n",
      " Directory of C:\\Users\\mswin\\OneDrive\\FSDS\\1.1_Python\n",
      "\n",
      "27-07-2023  00:07    <DIR>          .\n",
      "27-07-2023  00:07    <DIR>          ..\n",
      "26-07-2023  23:47    <DIR>          .ipynb_checkpoints\n",
      "11-04-2023  16:49             2,636 00_Practice.ipynb\n",
      "26-07-2023  23:24            13,708 01_Python_Basic.ipynb\n",
      "26-07-2023  23:33            43,059 02_String_List_Indexing.ipynb\n",
      "26-07-2023  23:41               589 03_Tuple_Set_Dict.ipynb\n",
      "26-07-2023  23:42               589 04_Loops.ipynb\n",
      "26-07-2023  23:42               589 05_Functions.ipynb\n",
      "27-07-2023  00:06           103,510 06.1_IteratorGeneratorFileSystem.ipynb\n",
      "26-07-2023  23:53                31 06.2_test1.txt\n",
      "27-07-2023  00:03                68 06.3_test2.txt\n",
      "19-04-2023  14:00    <DIR>          06_folder\n",
      "14-04-2023  16:46            58,976 07_ExceptionHandling.ipynb\n",
      "19-04-2023  14:00    <DIR>          08_logging\n",
      "23-04-2023  11:46             9,840 08_logging.ipynb\n",
      "20-04-2023  16:03             6,396 09.1_modules.ipynb\n",
      "17-04-2023  11:40             6,519 09_modules.ipynb\n",
      "19-04-2023  14:00    <DIR>          0_Resources\n",
      "20-04-2023  16:57             1,634 10.1_OOPs.ipynb\n",
      "08-05-2023  17:42            62,743 10_OOPs.ipynb\n",
      "15-02-2023  15:40    <DIR>          11_SQL\n",
      "25-07-2023  10:34           212,285 11_SQL.ipynb\n",
      "29-01-2023  18:14               159 module.py\n",
      "17-04-2023  11:15               (0) my-module.py\n",
      "31-01-2023  11:07               736 mydict.py\n",
      "23-04-2023  10:31    <DIR>          my_modules\n",
      "31-01-2023  11:10               589 Untitled.ipynb\n",
      "06-07-2023  08:49                72 Untitled1.ipynb\n",
      "31-01-2023  11:10    <DIR>          __pycache__\n",
      "              21 File(s)        524,728 bytes\n",
      "               9 Dir(s)  485,749,579,776 bytes free\n"
     ]
    }
   ],
   "source": [
    "!dir"
   ]
  },
  {
   "cell_type": "code",
   "execution_count": 125,
   "id": "69a985a9",
   "metadata": {},
   "outputs": [
    {
     "data": {
      "text/plain": [
       "'C:\\\\Users\\\\mswin\\\\OneDrive\\\\FSDS\\\\1.1_Python'"
      ]
     },
     "execution_count": 125,
     "metadata": {},
     "output_type": "execute_result"
    }
   ],
   "source": [
    "os.getcwd()"
   ]
  },
  {
   "cell_type": "code",
   "execution_count": 126,
   "id": "b0012654",
   "metadata": {},
   "outputs": [
    {
     "data": {
      "text/plain": [
       "['.ipynb_checkpoints',\n",
       " '00_Practice.ipynb',\n",
       " '01_Python_Basic.ipynb',\n",
       " '02_String_List_Indexing.ipynb',\n",
       " '03_Tuple_Set_Dict.ipynb',\n",
       " '04_Loops.ipynb',\n",
       " '05_Functions.ipynb',\n",
       " '06.1_IteratorGeneratorFileSystem.ipynb',\n",
       " '06.2_test1.txt',\n",
       " '06.3_test2.txt',\n",
       " '06_folder',\n",
       " '07_ExceptionHandling.ipynb',\n",
       " '08_logging',\n",
       " '08_logging.ipynb',\n",
       " '09.1_modules.ipynb',\n",
       " '09_modules.ipynb',\n",
       " '0_Resources',\n",
       " '10.1_OOPs.ipynb',\n",
       " '10_OOPs.ipynb',\n",
       " '11_SQL',\n",
       " '11_SQL.ipynb',\n",
       " 'module.py',\n",
       " 'my-module.py',\n",
       " 'mydict.py',\n",
       " 'my_modules',\n",
       " 'Untitled.ipynb',\n",
       " 'Untitled1.ipynb',\n",
       " '__pycache__']"
      ]
     },
     "execution_count": 126,
     "metadata": {},
     "output_type": "execute_result"
    }
   ],
   "source": [
    "os.listdir()"
   ]
  },
  {
   "cell_type": "code",
   "execution_count": 127,
   "id": "5ee0990c",
   "metadata": {},
   "outputs": [],
   "source": [
    "l=os.listdir()"
   ]
  },
  {
   "cell_type": "code",
   "execution_count": 128,
   "id": "e61fa814",
   "metadata": {},
   "outputs": [
    {
     "data": {
      "text/plain": [
       "['.ipynb_checkpoints',\n",
       " '00_Practice.ipynb',\n",
       " '01_Python_Basic.ipynb',\n",
       " '02_String_List_Indexing.ipynb',\n",
       " '03_Tuple_Set_Dict.ipynb',\n",
       " '04_Loops.ipynb',\n",
       " '05_Functions.ipynb',\n",
       " '06.1_IteratorGeneratorFileSystem.ipynb',\n",
       " '06.2_test1.txt',\n",
       " '06.3_test2.txt',\n",
       " '06_folder',\n",
       " '07_ExceptionHandling.ipynb',\n",
       " '08_logging',\n",
       " '08_logging.ipynb',\n",
       " '09.1_modules.ipynb',\n",
       " '09_modules.ipynb',\n",
       " '0_Resources',\n",
       " '10.1_OOPs.ipynb',\n",
       " '10_OOPs.ipynb',\n",
       " '11_SQL',\n",
       " '11_SQL.ipynb',\n",
       " 'module.py',\n",
       " 'my-module.py',\n",
       " 'mydict.py',\n",
       " 'my_modules',\n",
       " 'Untitled.ipynb',\n",
       " 'Untitled1.ipynb',\n",
       " '__pycache__']"
      ]
     },
     "execution_count": 128,
     "metadata": {},
     "output_type": "execute_result"
    }
   ],
   "source": [
    "l"
   ]
  },
  {
   "cell_type": "code",
   "execution_count": 129,
   "id": "cf132bde",
   "metadata": {},
   "outputs": [
    {
     "data": {
      "text/plain": [
       "'C:\\\\Users\\\\mswin\\\\OneDrive\\\\FSDS\\\\1.1_Python'"
      ]
     },
     "execution_count": 129,
     "metadata": {},
     "output_type": "execute_result"
    }
   ],
   "source": [
    "os.getcwd()"
   ]
  },
  {
   "cell_type": "code",
   "execution_count": 130,
   "id": "eb5597d0",
   "metadata": {},
   "outputs": [
    {
     "data": {
      "text/plain": [
       "'\\ntask\\nread all txt files and append the files.\\n'"
      ]
     },
     "execution_count": 130,
     "metadata": {},
     "output_type": "execute_result"
    }
   ],
   "source": [
    "\"\"\"\n",
    "task\n",
    "read all txt files and append the files.\n",
    "\"\"\""
   ]
  },
  {
   "cell_type": "code",
   "execution_count": 132,
   "id": "5af5d944",
   "metadata": {},
   "outputs": [],
   "source": [
    "f = open(\"06.4_merge.txt\",\"w\")"
   ]
  },
  {
   "cell_type": "code",
   "execution_count": 134,
   "id": "d28c9ffc",
   "metadata": {},
   "outputs": [
    {
     "name": "stdout",
     "output_type": "stream",
     "text": [
      "06.2_test1.txt\n",
      "Contents of the file\n",
      "this is my first file operation\n",
      "06.3_test2.txt\n",
      "Contents of the file\n",
      "i can writeline 1line 2 line 3to store\n",
      "1Hello2Hello3Hellotest write\n",
      "06.4_merge.txt\n",
      "Contents of the file\n",
      "\n",
      "this is my first file operation\n",
      "i can writeline 1line 2 line 3to store\n",
      "1Hello2Hello3Hellotest write\n",
      "\n",
      "\n"
     ]
    }
   ],
   "source": [
    "import os\n",
    "m=[]\n",
    "f = open(\"06.4_merge.txt\",\"r+\")\n",
    "l = os.listdir()\n",
    "for i in l:\n",
    "    if i[-4::1]==\".txt\" and i!=\"merge.txt\":\n",
    "        print(i)\n",
    "        t = open(i,\"r\")\n",
    "        print(\"Contents of the file\\n\"+t.read())\n",
    "        t.seek(0)\n",
    "        f.write(t.read()+\"\\n\")\n",
    "        t.close()\n",
    "\n",
    "f.close()\n",
    "f = open(\"06.4_merge.txt\",\"r\")\n",
    "print(f.read())\n",
    "f.close()"
   ]
  }
 ],
 "metadata": {
  "kernelspec": {
   "display_name": "Python 3 (ipykernel)",
   "language": "python",
   "name": "python3"
  },
  "language_info": {
   "codemirror_mode": {
    "name": "ipython",
    "version": 3
   },
   "file_extension": ".py",
   "mimetype": "text/x-python",
   "name": "python",
   "nbconvert_exporter": "python",
   "pygments_lexer": "ipython3",
   "version": "3.9.13"
  }
 },
 "nbformat": 4,
 "nbformat_minor": 5
}
