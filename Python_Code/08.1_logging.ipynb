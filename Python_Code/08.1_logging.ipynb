{
 "cells": [
  {
   "cell_type": "code",
   "execution_count": 1,
   "id": "6473248a",
   "metadata": {},
   "outputs": [
    {
     "name": "stdout",
     "output_type": "stream",
     "text": [
      "feiwhfds\n"
     ]
    }
   ],
   "source": [
    "print(\"feiwhfds\")"
   ]
  },
  {
   "cell_type": "code",
   "execution_count": 2,
   "id": "e2a4994d",
   "metadata": {},
   "outputs": [],
   "source": [
    "import logging"
   ]
  },
  {
   "cell_type": "code",
   "execution_count": 3,
   "id": "30804dab",
   "metadata": {},
   "outputs": [],
   "source": [
    "logging.basicConfig(filename = \"08.2_test.log\")"
   ]
  },
  {
   "cell_type": "code",
   "execution_count": 4,
   "id": "10dcaf0e",
   "metadata": {},
   "outputs": [
    {
     "data": {
      "text/plain": [
       "'C:\\\\Users\\\\mswin\\\\OneDrive\\\\FSDS\\\\1.1_Python'"
      ]
     },
     "execution_count": 4,
     "metadata": {},
     "output_type": "execute_result"
    }
   ],
   "source": [
    "pwd()"
   ]
  },
  {
   "cell_type": "code",
   "execution_count": 5,
   "id": "a036ef37",
   "metadata": {},
   "outputs": [],
   "source": [
    "# DEBUG\n",
    "# INFO\n",
    "# WARNING\n",
    "# ERROR\n",
    "# CRITICAL"
   ]
  },
  {
   "cell_type": "code",
   "execution_count": 6,
   "id": "33f55646",
   "metadata": {},
   "outputs": [],
   "source": [
    "logging.info(\"this is my info log\")"
   ]
  },
  {
   "cell_type": "code",
   "execution_count": 7,
   "id": "65cf1be4",
   "metadata": {},
   "outputs": [],
   "source": [
    "logging.warning(\"this is my warning log\")"
   ]
  },
  {
   "cell_type": "code",
   "execution_count": 8,
   "id": "e061bb8e",
   "metadata": {},
   "outputs": [],
   "source": [
    "logging.error(\"this is my error log\")"
   ]
  },
  {
   "cell_type": "code",
   "execution_count": 9,
   "id": "c28fa03a",
   "metadata": {},
   "outputs": [],
   "source": [
    "logging.shutdown()"
   ]
  },
  {
   "cell_type": "code",
   "execution_count": 10,
   "id": "18bb0711",
   "metadata": {},
   "outputs": [],
   "source": [
    "import logging\n",
    "logging.basicConfig(filename = \"08.2_test.log\", level=logging.INFO)"
   ]
  },
  {
   "cell_type": "code",
   "execution_count": 11,
   "id": "4b34983a",
   "metadata": {},
   "outputs": [],
   "source": [
    "logging.info(\"this is my info log\")\n",
    "logging.debug(\"this is debug log\")\n",
    "logging.warning(\"this is my warning log\")"
   ]
  },
  {
   "cell_type": "code",
   "execution_count": 12,
   "id": "ea6434b7",
   "metadata": {},
   "outputs": [],
   "source": [
    "import logging\n",
    "logging.basicConfig(filename = \"08.2_test.log\", level=logging.DEBUG, format='%(asctime)s %(message)s)')"
   ]
  },
  {
   "cell_type": "code",
   "execution_count": 13,
   "id": "c1ac9785",
   "metadata": {},
   "outputs": [],
   "source": [
    "logging.info(\"this is my info log\")\n",
    "logging.debug(\"this is debug log\")\n",
    "logging.warning(\"this is my warning log\")"
   ]
  },
  {
   "cell_type": "code",
   "execution_count": 14,
   "id": "42ddf977",
   "metadata": {},
   "outputs": [],
   "source": [
    "import logging\n",
    "logging.basicConfig(filename = \"08.2_test.log\", level=logging.DEBUG, format='%(asctime)s %(levelname)s %(message)s)')"
   ]
  },
  {
   "cell_type": "code",
   "execution_count": 15,
   "id": "c1e04da4",
   "metadata": {},
   "outputs": [],
   "source": [
    "logging.info(\"this is my info log\")\n",
    "logging.debug(\"this is debug log\")\n",
    "logging.warning(\"this is my warning log\")"
   ]
  },
  {
   "cell_type": "code",
   "execution_count": 16,
   "id": "84439bd9",
   "metadata": {},
   "outputs": [],
   "source": [
    "# Priority\n",
    "# ERROR\n",
    "# WARNING\n",
    "# INFO\n",
    "# DEBUG"
   ]
  },
  {
   "cell_type": "code",
   "execution_count": 17,
   "id": "b25bcad3",
   "metadata": {},
   "outputs": [],
   "source": [
    "def divbyzero(a,b):\n",
    "    try:\n",
    "        logging.info(\"dividing a/b\")\n",
    "        return a/b\n",
    "    except Exception as e:\n",
    "        logging.error(\"Exception happened\")\n",
    "        logging.exception(\"Exception happened\"+str(e))\n",
    "        print(e)"
   ]
  },
  {
   "cell_type": "code",
   "execution_count": 18,
   "id": "8e39b09d",
   "metadata": {},
   "outputs": [
    {
     "name": "stdout",
     "output_type": "stream",
     "text": [
      "division by zero\n"
     ]
    }
   ],
   "source": [
    "divbyzero(10,0)"
   ]
  }
 ],
 "metadata": {
  "kernelspec": {
   "display_name": "Python 3 (ipykernel)",
   "language": "python",
   "name": "python3"
  },
  "language_info": {
   "codemirror_mode": {
    "name": "ipython",
    "version": 3
   },
   "file_extension": ".py",
   "mimetype": "text/x-python",
   "name": "python",
   "nbconvert_exporter": "python",
   "pygments_lexer": "ipython3",
   "version": "3.9.13"
  }
 },
 "nbformat": 4,
 "nbformat_minor": 5
}
